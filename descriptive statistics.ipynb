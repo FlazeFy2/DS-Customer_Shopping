{
 "cells": [
  {
   "cell_type": "code",
   "execution_count": 3,
   "metadata": {},
   "outputs": [
    {
     "name": "stdout",
     "output_type": "stream",
     "text": [
      "Max of Age : 70\n",
      "Min of Age : 18\n",
      "Range of Age : 52\n",
      "Mean of Age : 44.07\n",
      "Mode of Age : 69\n",
      "Variance of Age : 231.27\n",
      "Standard Deviance of Age : 15.21\n",
      "\n",
      "Max of Purchase Amount (Usd) : 100\n",
      "Min of Purchase Amount (Usd) : 20\n",
      "Range of Purchase Amount (Usd) : 80\n",
      "Mean of Purchase Amount (Usd) : 59.76\n",
      "Mode of Purchase Amount (Usd) : 36\n",
      "Variance of Purchase Amount (Usd) : 561.0\n",
      "Standard Deviance of Purchase Amount (Usd) : 23.69\n",
      "\n",
      "Max of Review Rating : 5.0\n",
      "Min of Review Rating : 2.5\n",
      "Range of Review Rating : 2.5\n",
      "Mean of Review Rating : 3.75\n",
      "Mode of Review Rating : 3.4\n",
      "Variance of Review Rating : 0.51\n",
      "Standard Deviance of Review Rating : 0.71\n",
      "\n",
      "Max of Previous Purchases : 50\n",
      "Min of Previous Purchases : 1\n",
      "Range of Previous Purchases : 49\n",
      "Mean of Previous Purchases : 25.35\n",
      "Mode of Previous Purchases : 31\n",
      "Variance of Previous Purchases : 208.72\n",
      "Standard Deviance of Previous Purchases : 14.45\n",
      "\n"
     ]
    }
   ],
   "source": [
    "import pandas as pd\n",
    "import statistics\n",
    "import numpy as np\n",
    "\n",
    "# Declaration\n",
    "data = pd.read_csv(\"shopping_trends.csv\")\n",
    "\n",
    "target_col = ['Age','Purchase Amount (USD)','Review Rating','Previous Purchases']\n",
    "\n",
    "for dt in target_col:\n",
    "    # Convert to int\n",
    "    data[dt] = pd.to_numeric(data[dt], errors='coerce')\n",
    "    \n",
    "    # Remove NaN\n",
    "    data = data.dropna(subset=[dt])\n",
    "\n",
    "    max_val = data[dt].max()\n",
    "    min_val = data[dt].min()\n",
    "    range_val = max_val - min_val\n",
    "    mean = round(data[dt].mean(),2)\n",
    "    mode = round(statistics.mode(data[dt]),2)\n",
    "    var = round(np.nanvar(data[dt],ddof=1),2)\n",
    "    std = round(var ** 0.5,2)\n",
    "\n",
    "    print(f\"Max of {dt.title()} : {max_val}\")\n",
    "    print(f\"Min of {dt.title()} : {min_val}\")\n",
    "    print(f\"Range of {dt.title()} : {range_val}\")\n",
    "    print(f\"Mean of {dt.title()} : {mean}\")\n",
    "    print(f\"Mode of {dt.title()} : {mode}\")\n",
    "    print(f\"Variance of {dt.title()} : {var}\")\n",
    "    print(f\"Standard Deviance of {dt.title()} : {std}\\n\")"
   ]
  },
  {
   "cell_type": "code",
   "execution_count": null,
   "metadata": {},
   "outputs": [],
   "source": []
  }
 ],
 "metadata": {
  "kernelspec": {
   "display_name": "Python 3 (ipykernel)",
   "language": "python",
   "name": "python3"
  },
  "language_info": {
   "codemirror_mode": {
    "name": "ipython",
    "version": 3
   },
   "file_extension": ".py",
   "mimetype": "text/x-python",
   "name": "python",
   "nbconvert_exporter": "python",
   "pygments_lexer": "ipython3",
   "version": "3.12.7"
  }
 },
 "nbformat": 4,
 "nbformat_minor": 4
}
